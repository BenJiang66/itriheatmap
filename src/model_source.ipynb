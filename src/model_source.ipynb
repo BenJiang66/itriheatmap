{
 "cells": [
  {
   "cell_type": "code",
   "execution_count": 1,
   "metadata": {},
   "outputs": [
    {
     "name": "stderr",
     "output_type": "stream",
     "text": [
      "/home/tryan/miniconda2/envs/stocklive/lib/python3.4/importlib/_bootstrap.py:321: FutureWarning: Conversion of the second argument of issubdtype from `float` to `np.floating` is deprecated. In future, it will be treated as `np.float64 == np.dtype(float).type`.\n",
      "  return f(*args, **kwds)\n",
      "Using TensorFlow backend.\n"
     ]
    }
   ],
   "source": [
    "import keras\n",
    "import os\n",
    "import numpy as np\n",
    "import edward as ed\n",
    "import tensorflow as tf\n",
    "import matplotlib.pyplot as plt\n",
    "\n",
    "from edward.models import Normal\n",
    "from functools import partial\n",
    "    \n",
    "class DefaultModel:\n",
    "    def __init__(self):\n",
    "        pass\n",
    "        \n",
    "    def train(self):\n",
    "        pass\n",
    "    \n",
    "class BayesianModel:\n",
    "    def neural_network(self, x, W_0, W_1, b_0, b_1):\n",
    "        h = tf.tanh(tf.matmul(x, W_0) + b_0)\n",
    "        h = tf.matmul(h, W_1) + b_1\n",
    "        return h\n",
    "\n",
    "    def __init__(self, features, output):\n",
    "        middle = output*2\n",
    "        W_0 = Normal(loc=tf.zeros([features, middle]), scale=tf.ones([features, middle]))\n",
    "        W_1 = Normal(loc=tf.zeros([middle, output]), scale=tf.ones([middle, output]))\n",
    "        b_0 = Normal(loc=tf.zeros(middle), scale=tf.ones(middle))\n",
    "        b_1 = Normal(loc=tf.zeros(output), scale=tf.ones(output))\n",
    "\n",
    "        self.x = tf.placeholder(tf.float32, shape=(None,features))\n",
    "        self.y = Normal(loc=self.neural_network(self.x, W_0, W_1, b_0, b_1),\n",
    "                   scale=0.1 * tf.ones(output))\n",
    "\n",
    "        qW_0 = Normal(loc=tf.get_variable(\"qW_0/loc\", [features, middle]),\n",
    "                      scale=tf.nn.softplus(tf.get_variable(\"qW_0/scale\", [features, middle])))\n",
    "        qW_1 = Normal(loc=tf.get_variable(\"qW_1/loc\", [middle, output]),\n",
    "                      scale=tf.nn.softplus(tf.get_variable(\"qW_1/scale\", [middle, output])))\n",
    "        qb_0 = Normal(loc=tf.get_variable(\"qb_0/loc\", [middle]),\n",
    "                      scale=tf.nn.softplus(tf.get_variable(\"qb_0/scale\", [middle])))\n",
    "        qb_1 = Normal(loc=tf.get_variable(\"qb_1/loc\", [output]),\n",
    "                      scale=tf.nn.softplus(tf.get_variable(\"qb_1/scale\", [output])))\n",
    "       \n",
    "        self.mus = tf.stack(\n",
    "            [self.neural_network(self.x, qW_0.sample(), qW_1.sample(),\n",
    "                                 qb_0.sample(), qb_1.sample())\n",
    "             for _ in range(10)])\n",
    "        \n",
    "        self.sess = ed.get_session()\n",
    "#         writer = tf.summary.FileWriter(\"graph\")\n",
    "#         writer.add_graph(sess.graph)\n",
    "#         tf.global_variables_initializer().run()\n",
    "        self.inference_partial = partial(ed.KLqp,\n",
    "                                         latent_vars={W_0: qW_0, b_0: qb_0, W_1: qW_1, b_1: qb_1})\n",
    "        \n",
    "    def train(self, x_train, y_train):\n",
    "        self.inference = self.inference_partial(data={self.x:x_train, self.y: y_train})\n",
    "        self.inference.run(n_iter=1000, n_samples=5)\n",
    "    \n",
    "    def evaluate(self, x_data, n=1) :\n",
    "        outputs = []\n",
    "        for i in range(0, n) :\n",
    "            outputs.append(self.mus.eval(feed_dict={self.x:x_data}))\n",
    "        \n",
    "        return np.array(outputs)\n",
    "        "
   ]
  }
 ],
 "metadata": {
  "kernelspec": {
   "display_name": "Python 3",
   "language": "python",
   "name": "python3"
  },
  "language_info": {
   "codemirror_mode": {
    "name": "ipython",
    "version": 3
   },
   "file_extension": ".py",
   "mimetype": "text/x-python",
   "name": "python",
   "nbconvert_exporter": "python",
   "pygments_lexer": "ipython3",
   "version": "3.4.5"
  }
 },
 "nbformat": 4,
 "nbformat_minor": 2
}
